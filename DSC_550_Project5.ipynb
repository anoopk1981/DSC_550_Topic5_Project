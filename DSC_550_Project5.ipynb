{
 "cells": [
  {
   "cell_type": "code",
   "execution_count": 31,
   "metadata": {
    "collapsed": true
   },
   "outputs": [],
   "source": [
    "import pandas as pd\n",
    "import numpy as np\n",
    "import matplotlib.pyplot as plt\n",
    "%matplotlib inline"
   ]
  },
  {
   "cell_type": "markdown",
   "source": [
    "Initialization step\n",
    "\n",
    "##### I have added 'Apple' also to the list of fruits."
   ],
   "metadata": {
    "collapsed": false,
    "pycharm": {
     "name": "#%% md\n"
    }
   }
  },
  {
   "cell_type": "code",
   "execution_count": 32,
   "outputs": [],
   "source": [
    "input_fruit_data = {\n",
    "    \"Banana\": [1, 1, 1, 1, -1, 1, -1, -1, -1, 1, 1, 1, 1, 1, -1, 1, -1, -1, -1, -1, 1, -1, -1, -1, -1],\n",
    "    \"Pineapple\": [1, -1, -1, -1, 1, -1, 1, -1, 1, -1, -1, -1, 1, -1, -1, -1, -1, 1, -1, -1, -1, -1, 1, -1, -1],\n",
    "    \"Apple\": [1, 1, 1, 1, 1, -1, -1, 1, -1, -1, -1, -1, 1, -1, -1, -1, -1, 1, -1, -1, -1, -1, 1, -1, -1],\n",
    "}"
   ],
   "metadata": {
    "collapsed": false,
    "pycharm": {
     "name": "#%%\n"
    }
   }
  },
  {
   "cell_type": "markdown",
   "source": [
    "Preprocessing step"
   ],
   "metadata": {
    "collapsed": false
   }
  },
  {
   "cell_type": "code",
   "execution_count": 33,
   "outputs": [],
   "source": [
    "# Training parameters\n",
    "num_train = 3\n",
    "# Length of the test set\n",
    "num_test = 100\n",
    "\n",
    "# The distort factor is used so that the network can learn slight variations of the same problems to see these are essentially the same.\n",
    "# This can increase the generalization potential.\n",
    "distort_factor = 0.1\n",
    "# Number of neurons\n",
    "num_neurons = 25"
   ],
   "metadata": {
    "collapsed": false,
    "pycharm": {
     "name": "#%%\n"
    }
   }
  },
  {
   "cell_type": "code",
   "execution_count": 34,
   "outputs": [],
   "source": [
    "training_data = [np.array(d) for d in input_fruit_data.values()][:num_train]"
   ],
   "metadata": {
    "collapsed": false,
    "pycharm": {
     "name": "#%%\n"
    }
   }
  },
  {
   "cell_type": "code",
   "execution_count": 35,
   "outputs": [],
   "source": [
    "testing_data = []\n",
    "for d in range(num_test):\n",
    "    base_pattern = np.array(training_data[np.random.randint(0, num_train)])\n",
    "    noise = 1 * (np.random.random(base_pattern.shape) > distort_factor)\n",
    "    np.place(noise, noise == 0, -1)\n",
    "    noisy_pattern = np.multiply(base_pattern, noise)\n",
    "    testing_data.append((base_pattern, noisy_pattern))"
   ],
   "metadata": {
    "collapsed": false,
    "pycharm": {
     "name": "#%%\n"
    }
   }
  },
  {
   "cell_type": "markdown",
   "source": [
    "Neural Network\n",
    "\n",
    "###### This fuction will train the network using the Hebbian learning rule\n",
    "###### Hebbian rule works by updating the weights between neurons in the neural network for each training sample."
   ],
   "metadata": {
    "collapsed": false
   }
  },
  {
   "cell_type": "code",
   "execution_count": 36,
   "outputs": [],
   "source": [
    "def train(neu, training_data):\n",
    "    w = np.zeros([neu, neu])\n",
    "    for data in training_data:\n",
    "        w += np.outer(data, data)\n",
    "    for diag in range(neu):\n",
    "        w[diag][diag] = 0\n",
    "    return w"
   ],
   "metadata": {
    "collapsed": false,
    "pycharm": {
     "name": "#%%\n"
    }
   }
  },
  {
   "cell_type": "code",
   "execution_count": 37,
   "outputs": [],
   "source": [
    "def test(weights, testing_data):\n",
    "    success = 0.0\n",
    "\n",
    "    output_data = []\n",
    "\n",
    "    for data in testing_data:\n",
    "        true_data = data[0]\n",
    "        noisy_data = data[1]\n",
    "        predicted_data = retrieve_pattern(weights, noisy_data)\n",
    "        if np.array_equal(true_data, predicted_data):\n",
    "            success += 1.0\n",
    "        output_data.append([true_data, noisy_data, predicted_data])\n",
    "\n",
    "    return (success / len(testing_data)), output_data"
   ],
   "metadata": {
    "collapsed": false,
    "pycharm": {
     "name": "#%%\n"
    }
   }
  },
  {
   "cell_type": "code",
   "execution_count": 38,
   "outputs": [],
   "source": [
    "def retrieve_pattern(weights, data, steps=10):\n",
    "    res = np.array(data)\n",
    "\n",
    "    for _ in range(steps):\n",
    "        for i in range(len(res)):\n",
    "            raw_v = np.dot(weights[i], res)\n",
    "            if raw_v > 0:\n",
    "                res[i] = 1\n",
    "            else:\n",
    "                res[i] = -1\n",
    "    return res"
   ],
   "metadata": {
    "collapsed": false,
    "pycharm": {
     "name": "#%%\n"
    }
   }
  },
  {
   "cell_type": "code",
   "execution_count": 39,
   "outputs": [],
   "source": [
    "# Train\n",
    "W = train(num_neurons, training_data)"
   ],
   "metadata": {
    "collapsed": false,
    "pycharm": {
     "name": "#%%\n"
    }
   }
  },
  {
   "cell_type": "code",
   "execution_count": 40,
   "outputs": [],
   "source": [
    "# Test\n",
    "accuracy, out_data = test(W, testing_data)"
   ],
   "metadata": {
    "collapsed": false,
    "pycharm": {
     "name": "#%%\n"
    }
   }
  },
  {
   "cell_type": "code",
   "execution_count": 41,
   "outputs": [
    {
     "name": "stdout",
     "output_type": "stream",
     "text": [
      "Accuracy of the network is 99.000000\n"
     ]
    }
   ],
   "source": [
    "print(\"Accuracy of the network is %f\" % (accuracy * 100))"
   ],
   "metadata": {
    "collapsed": false,
    "pycharm": {
     "name": "#%%\n"
    }
   }
  },
  {
   "cell_type": "markdown",
   "source": [
    "###### Output classifications of the test data set"
   ],
   "metadata": {
    "collapsed": false,
    "pycharm": {
     "name": "#%% md\n"
    }
   }
  },
  {
   "cell_type": "code",
   "execution_count": 42,
   "outputs": [
    {
     "name": "stdout",
     "output_type": "stream",
     "text": [
      "0 Apple\n",
      "1 Pineapple\n",
      "2 Apple\n",
      "3 Pineapple\n",
      "4 Apple\n",
      "5 Banana\n",
      "6 Pineapple\n",
      "7 Pineapple\n",
      "8 Apple\n",
      "9 Banana\n",
      "10 Apple\n",
      "11 Banana\n",
      "12 Banana\n",
      "13 Banana\n",
      "14 Apple\n",
      "15 Pineapple\n",
      "16 Apple\n",
      "17 Pineapple\n",
      "18 Pineapple\n",
      "19 Pineapple\n",
      "20 Pineapple\n",
      "21 Banana\n",
      "22 Pineapple\n",
      "23 Pineapple\n",
      "24 Pineapple\n",
      "25 Apple\n",
      "26 Banana\n",
      "27 Banana\n",
      "28 Banana\n",
      "29 Pineapple\n",
      "30 Pineapple\n",
      "31 Pineapple\n",
      "32 Apple\n",
      "33 Pineapple\n",
      "34 Apple\n",
      "35 Pineapple\n",
      "36 Banana\n",
      "37 Apple\n",
      "38 Banana\n",
      "39 Banana\n",
      "40 Pineapple\n",
      "41 Apple\n",
      "42 Banana\n",
      "43 Apple\n",
      "44 Apple\n",
      "45 Pineapple\n",
      "46 Pineapple\n",
      "47 Apple\n",
      "48 Apple\n",
      "49 Apple\n",
      "50 Banana\n",
      "51 Banana\n",
      "52 Pineapple\n",
      "53 Pineapple\n",
      "54 Pineapple\n",
      "55 Banana\n",
      "56 Banana\n",
      "57 Banana\n",
      "58 Banana\n",
      "59 Banana\n",
      "60 Pineapple\n",
      "61 Pineapple\n",
      "62 Banana\n",
      "63 Apple\n",
      "64 Banana\n",
      "65 Banana\n",
      "66 Apple\n",
      "67 Pineapple\n",
      "68 Banana\n",
      "69 Apple\n",
      "71 Pineapple\n",
      "72 Apple\n",
      "73 Banana\n",
      "74 Banana\n",
      "75 Apple\n",
      "76 Apple\n",
      "77 Apple\n",
      "78 Apple\n",
      "79 Apple\n",
      "80 Pineapple\n",
      "81 Pineapple\n",
      "82 Pineapple\n",
      "83 Pineapple\n",
      "84 Pineapple\n",
      "85 Pineapple\n",
      "86 Apple\n",
      "87 Banana\n",
      "88 Apple\n",
      "89 Apple\n",
      "90 Banana\n",
      "91 Apple\n",
      "92 Pineapple\n",
      "93 Banana\n",
      "94 Apple\n",
      "95 Apple\n",
      "96 Banana\n",
      "97 Pineapple\n",
      "98 Banana\n",
      "99 Banana\n"
     ]
    }
   ],
   "source": [
    "# print output classifications of test data\n",
    "for v in range(len(out_data)):\n",
    "    for j in range(len(list(input_fruit_data.keys()))):\n",
    "        if all(out_data[v][2] == list(input_fruit_data.values())[j]):\n",
    "            print(v, list(input_fruit_data.keys())[j])"
   ],
   "metadata": {
    "collapsed": false,
    "pycharm": {
     "name": "#%%\n"
    }
   }
  }
 ],
 "metadata": {
  "kernelspec": {
   "display_name": "Python 3",
   "language": "python",
   "name": "python3"
  },
  "language_info": {
   "codemirror_mode": {
    "name": "ipython",
    "version": 2
   },
   "file_extension": ".py",
   "mimetype": "text/x-python",
   "name": "python",
   "nbconvert_exporter": "python",
   "pygments_lexer": "ipython2",
   "version": "2.7.6"
  }
 },
 "nbformat": 4,
 "nbformat_minor": 0
}